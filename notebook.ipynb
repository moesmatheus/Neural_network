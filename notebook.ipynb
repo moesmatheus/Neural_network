{
 "cells": [
  {
   "cell_type": "code",
   "execution_count": 1,
   "metadata": {},
   "outputs": [
    {
     "name": "stderr",
     "output_type": "stream",
     "text": [
      "Using TensorFlow backend.\n"
     ]
    }
   ],
   "source": [
    "import main\n",
    "import tensorflow as tf\n",
    "import pandas as pd\n",
    "import numpy as np\n",
    "from sklearn.preprocessing import LabelEncoder\n",
    "from sklearn.preprocessing import StandardScaler\n",
    "from sklearn import linear_model\n",
    "from matplotlib import pyplot as plt\n",
    "from sklearn.model_selection import train_test_split\n",
    "import time\n",
    "import sklearn\n",
    "import keras"
   ]
  },
  {
   "cell_type": "markdown",
   "metadata": {},
   "source": [
    "# MNIST Using ANN Network"
   ]
  },
  {
   "cell_type": "code",
   "execution_count": 1,
   "metadata": {},
   "outputs": [
    {
     "name": "stderr",
     "output_type": "stream",
     "text": [
      "Using TensorFlow backend.\n"
     ]
    },
    {
     "name": "stdout",
     "output_type": "stream",
     "text": [
      "Train on 59400 samples, validate on 600 samples\n",
      "Epoch 1/4\n",
      "59400/59400 [==============================] - 3s 44us/step - loss: 0.3860 - acc: 0.8858 - val_loss: 0.1564 - val_acc: 0.9617\n",
      "Epoch 2/4\n",
      "59400/59400 [==============================] - 2s 38us/step - loss: 0.1330 - acc: 0.9608 - val_loss: 0.1442 - val_acc: 0.9700\n",
      "Epoch 3/4\n",
      "59400/59400 [==============================] - 2s 29us/step - loss: 0.0837 - acc: 0.9758 - val_loss: 0.1423 - val_acc: 0.9717\n",
      "Epoch 4/4\n",
      "59400/59400 [==============================] - 2s 29us/step - loss: 0.0576 - acc: 0.9838 - val_loss: 0.1380 - val_acc: 0.9717\n",
      "10000/10000 [==============================] - 0s 34us/step\n"
     ]
    },
    {
     "data": {
      "text/plain": [
       "[0.09290625496208668, 0.9718]"
      ]
     },
     "execution_count": 1,
     "metadata": {},
     "output_type": "execute_result"
    }
   ],
   "source": [
    "import main\n",
    "import keras\n",
    "\n",
    "#Load mnist dataset\n",
    "(x_train, y_train), (x_test, y_test) = keras.datasets.mnist.load_data()\n",
    "\n",
    "#Convert to float\n",
    "x_train = x_train.astype('float32')\n",
    "x_test = x_test.astype('float32')\n",
    "#Rescale X\n",
    "x_train /= 255\n",
    "x_test /= 255\n",
    "#Number of classes\n",
    "num_classes = 10\n",
    "\n",
    "#Convert to one hot\n",
    "y_train = keras.utils.to_categorical(y_train, num_classes)\n",
    "y_test = keras.utils.to_categorical(y_test, num_classes)\n",
    "\n",
    "#Create model\n",
    "a = main.ANN(\n",
    "        network_sizes = [150,50],\n",
    "        loss = 'categorical_crossentropy', \n",
    "        optimizer = 'adam',\n",
    "        activation = 'relu',\n",
    "        metrics = ['accuracy'],\n",
    "        n_out = 10\n",
    "        )    \n",
    "\n",
    "#Train model\n",
    "a.fit_model(\n",
    "        x_train.reshape(-1,(28*28)).astype('float32'),\n",
    "        y_train,\n",
    "        batch_size = 400,\n",
    "        epochs = 4,\n",
    "        validation_split = 0.01\n",
    "        )\n",
    "\n",
    "#Evaluate model\n",
    "a.eval(\n",
    "        x_test.reshape(-1,(28*28)).astype('float32'),\n",
    "        y_test\n",
    "        )"
   ]
  },
  {
   "cell_type": "markdown",
   "metadata": {},
   "source": [
    "# MNIST Using CNN Network"
   ]
  },
  {
   "cell_type": "code",
   "execution_count": 17,
   "metadata": {},
   "outputs": [
    {
     "name": "stdout",
     "output_type": "stream",
     "text": [
      "Train on 59400 samples, validate on 600 samples\n",
      "Epoch 1/5\n",
      "59400/59400 [==============================] - 22s 373us/step - loss: 0.3643 - acc: 0.8984 - val_loss: 0.1220 - val_acc: 0.9667\n",
      "Epoch 2/5\n",
      "59400/59400 [==============================] - 19s 328us/step - loss: 0.0881 - acc: 0.9738 - val_loss: 0.0981 - val_acc: 0.9750\n",
      "Epoch 3/5\n",
      "59400/59400 [==============================] - 22s 364us/step - loss: 0.0578 - acc: 0.9829 - val_loss: 0.0885 - val_acc: 0.9783\n",
      "Epoch 4/5\n",
      "59400/59400 [==============================] - 23s 381us/step - loss: 0.0428 - acc: 0.9869 - val_loss: 0.0864 - val_acc: 0.9833\n",
      "Epoch 5/5\n",
      "59400/59400 [==============================] - 22s 367us/step - loss: 0.0324 - acc: 0.9902 - val_loss: 0.0934 - val_acc: 0.9783\n"
     ]
    }
   ],
   "source": [
    "#Load mnist dataset\n",
    "(x_train, y_train), (x_test, y_test) = keras.datasets.mnist.load_data()\n",
    "\n",
    "#Convert to float\n",
    "x_train = x_train.astype('float32')\n",
    "x_test = x_test.astype('float32')\n",
    "#Rescale X\n",
    "x_train /= 255\n",
    "x_test /= 255\n",
    "\n",
    "#Number of classes\n",
    "num_classes = 10\n",
    "\n",
    "#Convert to one hot\n",
    "y_train = keras.utils.to_categorical(y_train, num_classes)\n",
    "y_test = keras.utils.to_categorical(y_test, num_classes)\n",
    "\n",
    "model = CNN(\n",
    "        network_sizes = [50,25],\n",
    "        filters = [5,5],\n",
    "        kernels = [(4,4),(2,2)],\n",
    "        pool_size = (2,2),\n",
    "        activation='relu',\n",
    "        dropout=0,\n",
    "        optimizer = 'adam',\n",
    "        loss = 'categorical_crossentropy',\n",
    "        metrics = ['accuracy'],\n",
    "        n_out = 10\n",
    "    )\n",
    "\n",
    "model.fit_model(\n",
    "        x = x_train.reshape(-1,28,28,1),\n",
    "        y = y_train,\n",
    "        batch_size = 200,\n",
    "        epochs = 5,\n",
    "        validation_split = 0.01,\n",
    "        verbose = 1\n",
    ")"
   ]
  },
  {
   "cell_type": "markdown",
   "metadata": {},
   "source": [
    "# MNIST Using RNN Network"
   ]
  },
  {
   "cell_type": "code",
   "execution_count": 1,
   "metadata": {},
   "outputs": [
    {
     "name": "stderr",
     "output_type": "stream",
     "text": [
      "Using TensorFlow backend.\n"
     ]
    },
    {
     "name": "stdout",
     "output_type": "stream",
     "text": [
      "Train on 59400 samples, validate on 600 samples\n",
      "Epoch 1/5\n",
      "59400/59400 [==============================] - 9s 155us/step - loss: 1.6634 - acc: 0.4077 - val_loss: 1.0522 - val_acc: 0.6200\n",
      "Epoch 2/5\n",
      "59400/59400 [==============================] - 7s 117us/step - loss: 0.9813 - acc: 0.6523 - val_loss: 0.5316 - val_acc: 0.8033\n",
      "Epoch 3/5\n",
      "59400/59400 [==============================] - 7s 114us/step - loss: 0.6466 - acc: 0.7819 - val_loss: 0.3317 - val_acc: 0.8850\n",
      "Epoch 4/5\n",
      "59400/59400 [==============================] - 7s 122us/step - loss: 0.4747 - acc: 0.8476 - val_loss: 0.2335 - val_acc: 0.9167\n",
      "Epoch 5/5\n",
      "59400/59400 [==============================] - 7s 117us/step - loss: 0.3565 - acc: 0.8908 - val_loss: 0.1732 - val_acc: 0.9517\n"
     ]
    }
   ],
   "source": [
    "import main\n",
    "import keras\n",
    "\n",
    "#Load mnist dataset\n",
    "(x_train, y_train), (x_test, y_test) = keras.datasets.mnist.load_data()\n",
    "\n",
    "#Convert to float\n",
    "x_train = x_train.astype('float32')\n",
    "x_test = x_test.astype('float32')\n",
    "#Rescale X\n",
    "x_train /= 255\n",
    "x_test /= 255\n",
    "\n",
    "#Number of classes\n",
    "num_classes = 10\n",
    "\n",
    "#Convert to one hot\n",
    "y_train = keras.utils.to_categorical(y_train, num_classes)\n",
    "y_test = keras.utils.to_categorical(y_test, num_classes)\n",
    "\n",
    "model = main.RNN(\n",
    "    network_sizes = [30,15],\n",
    "    lstm_cells = [28],\n",
    "    activation='relu',\n",
    "    rnn_type = 'GRU',\n",
    "    dropout = 0.1,\n",
    "    optimizer = 'adam',\n",
    "    loss = 'categorical_crossentropy',\n",
    "    metrics = ['accuracy'],\n",
    "    n_out = 10\n",
    ")\n",
    "\n",
    "model.fit_model(\n",
    "    x = x_train,\n",
    "    y = y_train,\n",
    "    batch_size = 200,\n",
    "    epochs = 5,\n",
    "    validation_split = 0.01,\n",
    "    verbose = 1\n",
    ")\n",
    "\n"
   ]
  }
 ],
 "metadata": {
  "kernelspec": {
   "display_name": "Python 3",
   "language": "python",
   "name": "python3"
  },
  "language_info": {
   "codemirror_mode": {
    "name": "ipython",
    "version": 3
   },
   "file_extension": ".py",
   "mimetype": "text/x-python",
   "name": "python",
   "nbconvert_exporter": "python",
   "pygments_lexer": "ipython3",
   "version": "3.6.7"
  }
 },
 "nbformat": 4,
 "nbformat_minor": 1
}
